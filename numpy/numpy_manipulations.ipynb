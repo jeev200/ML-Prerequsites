{
 "cells": [
  {
   "cell_type": "markdown",
   "metadata": {},
   "source": [
    "\n",
    "##Reshaping Arrays\n"
   ]
  },
  {
   "cell_type": "code",
   "execution_count": 1,
   "metadata": {},
   "outputs": [],
   "source": [
    "import numpy as np"
   ]
  },
  {
   "cell_type": "code",
   "execution_count": 5,
   "metadata": {},
   "outputs": [
    {
     "data": {
      "text/plain": [
       "array([[ 1,  2,  3],\n",
       "       [ 4,  5,  6],\n",
       "       [ 7,  8,  9],\n",
       "       [10, 11, 12]])"
      ]
     },
     "execution_count": 5,
     "metadata": {},
     "output_type": "execute_result"
    }
   ],
   "source": [
    "arr = np.arange(1,13)\n",
    "reshape_arr = arr.reshape(4,3)\n",
    "reshape_arr"
   ]
  },
  {
   "cell_type": "code",
   "execution_count": 6,
   "metadata": {},
   "outputs": [
    {
     "data": {
      "text/plain": [
       "array([ 1,  2,  3,  4,  5,  6,  7,  8,  9, 10, 11, 12])"
      ]
     },
     "execution_count": 6,
     "metadata": {},
     "output_type": "execute_result"
    }
   ],
   "source": [
    "arr1 = np.array([[ 1,  2,  3],\n",
    "       [ 4,  5,  6],\n",
    "       [ 7,  8,  9],\n",
    "       [10, 11, 12]])\n",
    "reshape_arr = arr1.reshape(-1)\n",
    "reshape_arr"
   ]
  },
  {
   "cell_type": "code",
   "execution_count": 7,
   "metadata": {},
   "outputs": [
    {
     "data": {
      "text/plain": [
       "array([ 1,  2,  3,  4,  5,  6,  7,  8,  9, 10, 11, 12])"
      ]
     },
     "execution_count": 7,
     "metadata": {},
     "output_type": "execute_result"
    }
   ],
   "source": [
    "arr1 = np.array([[ 1,  2,  3],\n",
    "       [ 4,  5,  6],\n",
    "       [ 7,  8,  9],\n",
    "       [10, 11, 12]])\n",
    "reshape_arr = arr1.flatten()\n",
    "reshape_arr"
   ]
  },
  {
   "cell_type": "markdown",
   "metadata": {},
   "source": [
    "#Joining and Splitting Arrays"
   ]
  },
  {
   "cell_type": "code",
   "execution_count": 11,
   "metadata": {},
   "outputs": [
    {
     "data": {
      "text/plain": [
       "(array([[1, 2],\n",
       "        [3, 4],\n",
       "        [4, 5],\n",
       "        [6, 7]]),\n",
       " array([[1, 2, 4, 5],\n",
       "        [3, 4, 6, 7]]))"
      ]
     },
     "execution_count": 11,
     "metadata": {},
     "output_type": "execute_result"
    }
   ],
   "source": [
    "a = np.array([[1,2],[3,4]])\n",
    "b = np.array([[4,5],[6,7]])\n",
    "arr1 =  np.concatenate((a,b))\n",
    "arr2 = np.concatenate((a,b),axis=1)\n",
    "arr1,arr2"
   ]
  },
  {
   "cell_type": "code",
   "execution_count": 14,
   "metadata": {},
   "outputs": [
    {
     "name": "stdout",
     "output_type": "stream",
     "text": [
      "Stack the two arrays along axis 0:\n",
      "[[[1 2 5]\n",
      "  [3 4 6]\n",
      "  [6 8 9]]\n",
      "\n",
      " [[5 6 8]\n",
      "  [7 8 8]\n",
      "  [3 6 8]]\n",
      "\n",
      " [[5 6 8]\n",
      "  [7 8 8]\n",
      "  [3 6 8]]]\n",
      "Stack the two arrays along axis 1:\n",
      "[[[1 2 5]\n",
      "  [5 6 8]\n",
      "  [5 6 8]]\n",
      "\n",
      " [[3 4 6]\n",
      "  [7 8 8]\n",
      "  [7 8 8]]\n",
      "\n",
      " [[6 8 9]\n",
      "  [3 6 8]\n",
      "  [3 6 8]]]\n"
     ]
    }
   ],
   "source": [
    "a = np.array([[1,2,5],[3,4,6],[6,8,9]])\n",
    "b = np.array([[5,6,8],[7,8,8],[3,6,8]])\n",
    "c = np.array([[5,6,8],[7,8,8],[3,6,8]])\n",
    "\n",
    "print ('Stack the two arrays along axis 0:') \n",
    "print (np.stack((a,b,c),0))\n",
    "\n",
    "print ('Stack the two arrays along axis 1:')\n",
    "print (np.stack((a,b,c),1))"
   ]
  },
  {
   "cell_type": "code",
   "execution_count": 18,
   "metadata": {},
   "outputs": [
    {
     "name": "stdout",
     "output_type": "stream",
     "text": [
      "[[1 2 5 5 6 8 5 6 8]\n",
      " [3 4 6 7 8 8 7 8 8]\n",
      " [6 8 9 3 6 8 3 6 8]]\n",
      "[[1 2 5]\n",
      " [3 4 6]\n",
      " [6 8 9]\n",
      " [5 6 8]\n",
      " [7 8 8]\n",
      " [3 6 8]\n",
      " [5 6 8]\n",
      " [7 8 8]\n",
      " [3 6 8]]\n"
     ]
    }
   ],
   "source": [
    "a = np.array([[1,2,5],[3,4,6],[6,8,9]])\n",
    "b = np.array([[5,6,8],[7,8,8],[3,6,8]])\n",
    "c = np.array([[5,6,8],[7,8,8],[3,6,8]])\n",
    "print (np.hstack((a,b,c)))\n",
    "print (np.vstack((a,b,c)))"
   ]
  },
  {
   "cell_type": "code",
   "execution_count": 24,
   "metadata": {},
   "outputs": [
    {
     "data": {
      "text/plain": [
       "[array([1, 2]), array([3, 4]), array([5]), array([6])]"
      ]
     },
     "execution_count": 24,
     "metadata": {},
     "output_type": "execute_result"
    }
   ],
   "source": [
    "\n",
    "arr = np.array([1, 2, 3, 4, 5, 6])\n",
    "split_array = np.array_split(arr,4)\n",
    "split_array\n"
   ]
  },
  {
   "cell_type": "code",
   "execution_count": 25,
   "metadata": {},
   "outputs": [
    {
     "data": {
      "text/plain": [
       "[array([[1, 2, 3]]), array([[4, 5, 6]]), array([[5, 6, 7]])]"
      ]
     },
     "execution_count": 25,
     "metadata": {},
     "output_type": "execute_result"
    }
   ],
   "source": [
    "arr = np.array([[1, 2, 3], [4, 5, 6],[5, 6, 7]])\n",
    "split_array = np.array_split(arr,3)\n",
    "split_array"
   ]
  },
  {
   "cell_type": "code",
   "execution_count": 35,
   "metadata": {},
   "outputs": [
    {
     "data": {
      "text/plain": [
       "[array([[[1, 2, 5],\n",
       "         [3, 4, 6],\n",
       "         [6, 8, 9]],\n",
       " \n",
       "        [[5, 6, 8],\n",
       "         [7, 8, 8],\n",
       "         [3, 6, 8]],\n",
       " \n",
       "        [[5, 6, 8],\n",
       "         [7, 8, 8],\n",
       "         [3, 6, 8]]]),\n",
       " array([[[1, 2, 5],\n",
       "         [3, 4, 6],\n",
       "         [6, 8, 9]],\n",
       " \n",
       "        [[5, 6, 8],\n",
       "         [7, 8, 8],\n",
       "         [3, 6, 8]],\n",
       " \n",
       "        [[5, 6, 8],\n",
       "         [7, 8, 8],\n",
       "         [3, 6, 8]]])]"
      ]
     },
     "execution_count": 35,
     "metadata": {},
     "output_type": "execute_result"
    }
   ],
   "source": [
    "arr3 = np.array([[[1,2, 5],\n",
    "  [3 ,4, 6],\n",
    "  [6 ,8, 9]],\n",
    "\n",
    " [[5, 6, 8],\n",
    "  [7 ,8, 8],\n",
    "  [3 ,6, 8]],\n",
    "\n",
    " [[5 ,6, 8],\n",
    "  [7 ,8, 8],\n",
    "  [3 ,6, 8]],\n",
    "\n",
    "[[1,2, 5],\n",
    "  [3 ,4, 6],\n",
    "  [6 ,8, 9]],\n",
    "\n",
    " [[5, 6, 8],\n",
    "  [7 ,8, 8],\n",
    "  [3 ,6, 8]],\n",
    "\n",
    " [[5 ,6, 8],\n",
    "  [7 ,8, 8],\n",
    "  [3 ,6, 8]]])\n",
    "\n",
    "split_array = np.array_split(arr3,2)\n",
    "split_array"
   ]
  },
  {
   "cell_type": "code",
   "execution_count": 37,
   "metadata": {},
   "outputs": [
    {
     "data": {
      "text/plain": [
       "[array([[1],\n",
       "        [4],\n",
       "        [5]]),\n",
       " array([[2],\n",
       "        [5],\n",
       "        [6]]),\n",
       " array([[3],\n",
       "        [6],\n",
       "        [7]])]"
      ]
     },
     "execution_count": 37,
     "metadata": {},
     "output_type": "execute_result"
    }
   ],
   "source": [
    "arr = np.array([[1, 2, 3], [4, 5, 6],[5, 6, 7]])\n",
    "split_array = np.array_split(arr,3,axis=1)\n",
    "split_array"
   ]
  },
  {
   "cell_type": "code",
   "execution_count": 40,
   "metadata": {},
   "outputs": [
    {
     "data": {
      "text/plain": [
       "([array([[ 1],\n",
       "         [ 4],\n",
       "         [ 7],\n",
       "         [10],\n",
       "         [13],\n",
       "         [16]]),\n",
       "  array([[ 2],\n",
       "         [ 5],\n",
       "         [ 8],\n",
       "         [11],\n",
       "         [14],\n",
       "         [17]]),\n",
       "  array([[ 3],\n",
       "         [ 6],\n",
       "         [ 9],\n",
       "         [12],\n",
       "         [15],\n",
       "         [18]])],\n",
       " [array([[1, 2, 3],\n",
       "         [4, 5, 6]]),\n",
       "  array([[ 7,  8,  9],\n",
       "         [10, 11, 12]]),\n",
       "  array([[13, 14, 15],\n",
       "         [16, 17, 18]])])"
      ]
     },
     "execution_count": 40,
     "metadata": {},
     "output_type": "execute_result"
    }
   ],
   "source": [
    "\n",
    "arr = np.array([[1, 2, 3], [4, 5, 6], [7, 8, 9], [10, 11, 12], [13, 14, 15], [16, 17, 18]])\n",
    "split_h = np.hsplit(arr,3)\n",
    "split_v = np.vsplit(arr,3)\n",
    "split_h,split_v"
   ]
  },
  {
   "cell_type": "code",
   "execution_count": 41,
   "metadata": {},
   "outputs": [],
   "source": [
    "## changing the type of the array"
   ]
  },
  {
   "cell_type": "code",
   "execution_count": 43,
   "metadata": {},
   "outputs": [
    {
     "data": {
      "text/plain": [
       "array([1, 2, 3], dtype=int32)"
      ]
     },
     "execution_count": 43,
     "metadata": {},
     "output_type": "execute_result"
    }
   ],
   "source": [
    "arr =  np.array([1.1, 2.1, 3.1])\n",
    "changedarray_dt = arr.astype('i')\n",
    "changedarray_dt"
   ]
  },
  {
   "cell_type": "code",
   "execution_count": 45,
   "metadata": {},
   "outputs": [
    {
     "data": {
      "text/plain": [
       "(array([ True,  True,  True]), array([1., 2., 3.], dtype=float32))"
      ]
     },
     "execution_count": 45,
     "metadata": {},
     "output_type": "execute_result"
    }
   ],
   "source": [
    "arr =  np.array([1, 2, 3])\n",
    "changedarray_dt = arr.astype(bool)\n",
    "changedarray_float = arr.astype('f')\n",
    "changedarray_dt, changedarray_float"
   ]
  },
  {
   "cell_type": "markdown",
   "metadata": {},
   "source": [
    "##Sorting and Searching Arrays"
   ]
  },
  {
   "cell_type": "code",
   "execution_count": 50,
   "metadata": {},
   "outputs": [
    {
     "data": {
      "text/plain": [
       "(array([-1,  2,  9, 10]),\n",
       " array([False,  True,  True]),\n",
       " array(['apple', 'banana', 'cherry'], dtype='<U6'))"
      ]
     },
     "execution_count": 50,
     "metadata": {},
     "output_type": "execute_result"
    }
   ],
   "source": [
    "array = np.array([10, 2, 9, -1])\n",
    "arr1 = np.array([True, False, True])\n",
    "arr2 = np.array(['banana', 'cherry', 'apple'])\n",
    "sorted_array1 = np.sort(array)\n",
    "sorted_array2 = np.sort(arr1)\n",
    "sorted_array3 = np.sort(arr2)\n",
    "sorted_array1,sorted_array2,sorted_array3"
   ]
  },
  {
   "cell_type": "code",
   "execution_count": 52,
   "metadata": {},
   "outputs": [
    {
     "data": {
      "text/plain": [
       "array([-1,  2,  9, 10])"
      ]
     },
     "execution_count": 52,
     "metadata": {},
     "output_type": "execute_result"
    }
   ],
   "source": [
    "array = np.array([10, 2, 9, -1])\n",
    "sorted_array1 = np.argsort(array)\n",
    "new_array = array[sorted_array1]\n",
    "new_array"
   ]
  },
  {
   "cell_type": "code",
   "execution_count": 53,
   "metadata": {},
   "outputs": [
    {
     "data": {
      "text/plain": [
       "(array([3, 5, 6]),)"
      ]
     },
     "execution_count": 53,
     "metadata": {},
     "output_type": "execute_result"
    }
   ],
   "source": [
    "arr = np.array([1, 2, 3, 4, 5, 4, 4])\n",
    "index  = np.where(arr == 4)\n",
    "index"
   ]
  },
  {
   "cell_type": "code",
   "execution_count": 55,
   "metadata": {},
   "outputs": [
    {
     "data": {
      "text/plain": [
       "((array([1, 3, 5, 6]),), (array([0, 2, 4]),))"
      ]
     },
     "execution_count": 55,
     "metadata": {},
     "output_type": "execute_result"
    }
   ],
   "source": [
    "arr = np.array([1, 2, 3, 4, 5, 4, 4])\n",
    "index_even = np.where(arr%2 == 0)\n",
    "index_odd = np.where(arr%2 == 1)\n",
    "index_even, index_odd"
   ]
  },
  {
   "cell_type": "code",
   "execution_count": 58,
   "metadata": {},
   "outputs": [
    {
     "name": "stdout",
     "output_type": "stream",
     "text": [
      "1\n",
      "[2 0 0]\n",
      "2\n"
     ]
    }
   ],
   "source": [
    "## Search From the Right Side\n",
    "## By default the left most index is returned, but we can give side='right' to return the right most index instead\n",
    "\n",
    "arr = np.array([6, 7, 8, 9])\n",
    "\n",
    "x = np.searchsorted(arr, 7, side='right')\n",
    "y = np.searchsorted(arr, 7)\n",
    "z = np.searchsorted(arr, [8,4,6])\n",
    "print(y)\n",
    "print(z)\n",
    "print(x)"
   ]
  },
  {
   "cell_type": "code",
   "execution_count": null,
   "metadata": {},
   "outputs": [],
   "source": []
  }
 ],
 "metadata": {
  "kernelspec": {
   "display_name": "mlEnv",
   "language": "python",
   "name": "mlenv"
  },
  "language_info": {
   "codemirror_mode": {
    "name": "ipython",
    "version": 3
   },
   "file_extension": ".py",
   "mimetype": "text/x-python",
   "name": "python",
   "nbconvert_exporter": "python",
   "pygments_lexer": "ipython3",
   "version": "3.11.7"
  }
 },
 "nbformat": 4,
 "nbformat_minor": 2
}
